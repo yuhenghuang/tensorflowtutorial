{
 "cells": [
  {
   "cell_type": "code",
   "execution_count": 22,
   "metadata": {},
   "outputs": [],
   "source": [
    "from __future__ import print_function\n",
    "import imageio\n",
    "import numpy as np\n",
    "import pandas as pd\n",
    "import os\n",
    "import sys\n",
    "import tarfile\n",
    "from IPython.display import display, Image\n",
    "from six.moves.urllib.request import urlretrieve\n",
    "import feather"
   ]
  },
  {
   "cell_type": "code",
   "execution_count": 23,
   "metadata": {},
   "outputs": [
    {
     "name": "stdout",
     "output_type": "stream",
     "text": [
      "Found and verified D:\\Programming\\Projects\\notMNIST_large.tar.gz\n",
      "Found and verified D:\\Programming\\Projects\\notMNIST_small.tar.gz\n"
     ]
    }
   ],
   "source": [
    "#download the compressed datasets\n",
    "\n",
    "url = 'http://yaroslavvb.com/upload/notMNIST/'\n",
    "last_percent_reported = None\n",
    "data_root = 'D:\\\\Programming\\\\Projects'# Change me to store data elsewhere\n",
    "\n",
    "def download_progress_hook(count, blockSize, totalSize):\n",
    "  \"\"\"A hook to report the progress of a download. This is mostly intended for users with\n",
    "  slow internet connections. Reports every 5% change in download progress.\n",
    "  \"\"\"\n",
    "  global last_percent_reported\n",
    "  percent = int(count * blockSize * 100 / totalSize)\n",
    "\n",
    "  if last_percent_reported != percent:\n",
    "    if percent % 5 == 0:\n",
    "      sys.stdout.write(\"%s%%\" % percent)\n",
    "      sys.stdout.flush()\n",
    "    else:\n",
    "      sys.stdout.write(\".\")\n",
    "      sys.stdout.flush()\n",
    "      \n",
    "    last_percent_reported = percent\n",
    "        \n",
    "def maybe_download(filename, expected_bytes, force=False):\n",
    "  \"\"\"Download a file if not present, and make sure it's the right size.\"\"\"\n",
    "  dest_filename = os.path.join(data_root, filename)\n",
    "  if force or not os.path.exists(dest_filename):\n",
    "    print('Attempting to download:', filename) \n",
    "    filename, _ = urlretrieve(url + filename, dest_filename, reporthook = download_progress_hook)\n",
    "    print('\\nDownload Complete!')\n",
    "  statinfo = os.stat(dest_filename)\n",
    "  if statinfo.st_size == expected_bytes:\n",
    "    print('Found and verified', dest_filename)\n",
    "  else:\n",
    "    raise Exception(\n",
    "      'Failed to verify ' + dest_filename + '. Can you get to it with a browser?')\n",
    "  return dest_filename\n",
    "\n",
    "train_filename = maybe_download('notMNIST_large.tar.gz', 247336696)\n",
    "test_filename = maybe_download('notMNIST_small.tar.gz', 8458043)"
   ]
  },
  {
   "cell_type": "code",
   "execution_count": 24,
   "metadata": {},
   "outputs": [
    {
     "name": "stdout",
     "output_type": "stream",
     "text": [
      "D:\\Programming\\Projects\\notMNIST_large already present - Skipping extraction of D:\\Programming\\Projects\\notMNIST_large.tar.gz.\n",
      "['D:\\\\Programming\\\\Projects\\\\notMNIST_large\\\\A', 'D:\\\\Programming\\\\Projects\\\\notMNIST_large\\\\B', 'D:\\\\Programming\\\\Projects\\\\notMNIST_large\\\\C', 'D:\\\\Programming\\\\Projects\\\\notMNIST_large\\\\D', 'D:\\\\Programming\\\\Projects\\\\notMNIST_large\\\\E', 'D:\\\\Programming\\\\Projects\\\\notMNIST_large\\\\F', 'D:\\\\Programming\\\\Projects\\\\notMNIST_large\\\\G', 'D:\\\\Programming\\\\Projects\\\\notMNIST_large\\\\H', 'D:\\\\Programming\\\\Projects\\\\notMNIST_large\\\\I', 'D:\\\\Programming\\\\Projects\\\\notMNIST_large\\\\J']\n",
      "D:\\Programming\\Projects\\notMNIST_small already present - Skipping extraction of D:\\Programming\\Projects\\notMNIST_small.tar.gz.\n",
      "['D:\\\\Programming\\\\Projects\\\\notMNIST_small\\\\A', 'D:\\\\Programming\\\\Projects\\\\notMNIST_small\\\\B', 'D:\\\\Programming\\\\Projects\\\\notMNIST_small\\\\C', 'D:\\\\Programming\\\\Projects\\\\notMNIST_small\\\\D', 'D:\\\\Programming\\\\Projects\\\\notMNIST_small\\\\E', 'D:\\\\Programming\\\\Projects\\\\notMNIST_small\\\\F', 'D:\\\\Programming\\\\Projects\\\\notMNIST_small\\\\G', 'D:\\\\Programming\\\\Projects\\\\notMNIST_small\\\\H', 'D:\\\\Programming\\\\Projects\\\\notMNIST_small\\\\I', 'D:\\\\Programming\\\\Projects\\\\notMNIST_small\\\\J']\n"
     ]
    }
   ],
   "source": [
    "#extract images from the compressed files\n",
    "\n",
    "num_classes = 10\n",
    "np.random.seed(133)\n",
    "\n",
    "def maybe_extract(filename, force=False):\n",
    "  root = os.path.splitext(os.path.splitext(filename)[0])[0]  # remove .tar.gz\n",
    "  if os.path.isdir(root) and not force:\n",
    "    # You may override by setting force=True.\n",
    "    print('%s already present - Skipping extraction of %s.' % (root, filename))\n",
    "  else:\n",
    "    print('Extracting data for %s. This may take a while. Please wait.' % root)\n",
    "    tar = tarfile.open(filename)\n",
    "    sys.stdout.flush()\n",
    "    tar.extractall(data_root)\n",
    "    tar.close()\n",
    "  data_folders = [\n",
    "    os.path.join(root, d) for d in sorted(os.listdir(root))\n",
    "    if os.path.isdir(os.path.join(root, d))]\n",
    "  if len(data_folders) != num_classes:\n",
    "    raise Exception(\n",
    "      'Expected %d folders, one per class. Found %d instead.' % (\n",
    "        num_classes, len(data_folders)))\n",
    "  print(data_folders)\n",
    "  return data_folders\n",
    "  \n",
    "train_folders = maybe_extract(train_filename)\n",
    "test_folders = maybe_extract(test_filename)"
   ]
  },
  {
   "cell_type": "code",
   "execution_count": 25,
   "metadata": {},
   "outputs": [
    {
     "name": "stdout",
     "output_type": "stream",
     "text": [
      "D:\\Programming\\Projects\\notMNIST_large\\A.feather already present - Skipping feathering.\n",
      "D:\\Programming\\Projects\\notMNIST_large\\B.feather already present - Skipping feathering.\n",
      "D:\\Programming\\Projects\\notMNIST_large\\C.feather already present - Skipping feathering.\n",
      "D:\\Programming\\Projects\\notMNIST_large\\D.feather already present - Skipping feathering.\n",
      "D:\\Programming\\Projects\\notMNIST_large\\E.feather already present - Skipping feathering.\n",
      "D:\\Programming\\Projects\\notMNIST_large\\F.feather already present - Skipping feathering.\n",
      "D:\\Programming\\Projects\\notMNIST_large\\G.feather already present - Skipping feathering.\n",
      "D:\\Programming\\Projects\\notMNIST_large\\H.feather already present - Skipping feathering.\n",
      "D:\\Programming\\Projects\\notMNIST_large\\I.feather already present - Skipping feathering.\n",
      "D:\\Programming\\Projects\\notMNIST_large\\J.feather already present - Skipping feathering.\n",
      "D:\\Programming\\Projects\\notMNIST_small\\A.feather already present - Skipping feathering.\n",
      "D:\\Programming\\Projects\\notMNIST_small\\B.feather already present - Skipping feathering.\n",
      "D:\\Programming\\Projects\\notMNIST_small\\C.feather already present - Skipping feathering.\n",
      "D:\\Programming\\Projects\\notMNIST_small\\D.feather already present - Skipping feathering.\n",
      "D:\\Programming\\Projects\\notMNIST_small\\E.feather already present - Skipping feathering.\n",
      "D:\\Programming\\Projects\\notMNIST_small\\F.feather already present - Skipping feathering.\n",
      "D:\\Programming\\Projects\\notMNIST_small\\G.feather already present - Skipping feathering.\n",
      "D:\\Programming\\Projects\\notMNIST_small\\H.feather already present - Skipping feathering.\n",
      "D:\\Programming\\Projects\\notMNIST_small\\I.feather already present - Skipping feathering.\n",
      "D:\\Programming\\Projects\\notMNIST_small\\J.feather already present - Skipping feathering.\n"
     ]
    }
   ],
   "source": [
    "#save images in 28 * 28 matrix by imageio module\n",
    "\n",
    "image_size = 28  # Pixel width and height.\n",
    "pixel_depth = 255.0  # Number of levels per pixel.\n",
    "\n",
    "def load_letter(folder, min_num_images):\n",
    "  \"\"\"Load the data for a single letter label.\"\"\"\n",
    "  image_files = os.listdir(folder)\n",
    "  dataset = np.ndarray(shape=(len(image_files) * image_size, image_size),\n",
    "                         dtype=np.float32)\n",
    "  print(folder)\n",
    "  num_images = 0\n",
    "  for image in image_files:\n",
    "    image_file = os.path.join(folder, image)\n",
    "    try:\n",
    "      image_data = (imageio.imread(image_file).astype(float) - \n",
    "                    pixel_depth / 2) / pixel_depth\n",
    "      if image_data.shape != (image_size, image_size):\n",
    "        raise Exception('Unexpected image shape: %s' % str(image_data.shape))\n",
    "      dataset[(num_images*28):(num_images*28+28), :] = image_data\n",
    "      num_images = num_images + 1\n",
    "    except (IOError, ValueError) as e:\n",
    "      print('Could not read:', image_file, ':', e, '- it\\'s ok, skipping.')\n",
    "    \n",
    "  dataset = dataset[0:num_images*28, :]\n",
    "  if num_images < min_num_images:\n",
    "    raise Exception('Many fewer images than expected: %d < %d' %\n",
    "                    (num_images, min_num_images))\n",
    "    \n",
    "  print('Full dataset tensor:', dataset.shape[0]/28,',',dataset.shape[1])\n",
    "  print('Mean:', np.mean(dataset))\n",
    "  print('Standard deviation:', np.std(dataset))\n",
    "  return dataset\n",
    "        \n",
    "def maybe_feather(data_folders, min_num_images_per_class, force=False):\n",
    "  dataset_names = []\n",
    "  for folder in data_folders: #??don't need to define this?? Not like the previous function\n",
    "    set_filename = folder + '.feather'\n",
    "    dataset_names.append(set_filename) #save dataset names to a vector?(list)\n",
    "    if os.path.exists(set_filename) and not force:\n",
    "      # You may override by setting force=True.\n",
    "      print('%s already present - Skipping feathering.' % set_filename)\n",
    "    else:\n",
    "      print('Feathering %s.' % set_filename)\n",
    "      dataset = load_letter(folder, min_num_images_per_class)\n",
    "      pandasdf = pd.DataFrame(dataset)\n",
    "      try:\n",
    "        feather.write_dataframe(pandasdf, set_filename)\n",
    "      except Exception as e:\n",
    "        print('Unable to save data to', set_filename, ':', e)\n",
    "  \n",
    "  return dataset_names\n",
    "\n",
    "train_datasets = maybe_feather(train_folders, 45000)\n",
    "test_datasets = maybe_feather(test_folders, 1800)"
   ]
  },
  {
   "cell_type": "code",
   "execution_count": 26,
   "metadata": {},
   "outputs": [
    {
     "name": "stdout",
     "output_type": "stream",
     "text": [
      "Training: (200000, 28, 28) (200000,)\n",
      "Validation: (20000, 28, 28) (20000,)\n",
      "Testing: (12000, 28, 28) (12000,)\n"
     ]
    }
   ],
   "source": [
    "#randomly choose some images into train, valid and test sets.\n",
    "\n",
    "def feather_3d(file,image_size):\n",
    "    temp = feather.read_dataframe(file)\n",
    "    return np.reshape(temp.values, (-1, image_size, image_size))\n",
    "\n",
    "def make_arrays(nb_rows, img_size):\n",
    "  if nb_rows:\n",
    "    dataset = np.ndarray((nb_rows, img_size, img_size), dtype=np.float32)\n",
    "    labels = np.ndarray(nb_rows, dtype=np.int32)\n",
    "  else:\n",
    "    dataset, labels = None, None\n",
    "  return dataset, labels\n",
    "\n",
    "def merge_datasets(feather_files, train_size, valid_size=0):\n",
    "  num_classes = len(feather_files)\n",
    "  valid_dataset, valid_labels = make_arrays(valid_size, image_size)\n",
    "  train_dataset, train_labels = make_arrays(train_size, image_size)\n",
    "  vsize_per_class = valid_size // num_classes\n",
    "  tsize_per_class = train_size // num_classes\n",
    "    \n",
    "  start_v, start_t = 0, 0\n",
    "  end_v, end_t = vsize_per_class, tsize_per_class\n",
    "  end_l = vsize_per_class+tsize_per_class\n",
    "  for label, feather_file in enumerate(feather_files):       #obtaining an indexed list\n",
    "    try:\n",
    "      letter_set = feather_3d(feather_file, image_size) \n",
    "      np.random.shuffle(letter_set)    #let's shuffle the letters to have random validation and training set\n",
    "      if valid_dataset is not None:\n",
    "          valid_letter = letter_set[:vsize_per_class, :, :]\n",
    "          valid_dataset[start_v:end_v, :, :] = valid_letter\n",
    "          valid_labels[start_v:end_v] = label\n",
    "          start_v += vsize_per_class\n",
    "          end_v += vsize_per_class\n",
    "                    \n",
    "          train_letter = letter_set[vsize_per_class:end_l, :, :] #algorithm for avoiding repetition (though not perfect)\n",
    "          train_dataset[start_t:end_t, :, :] = train_letter\n",
    "          train_labels[start_t:end_t] = label\n",
    "          start_t += tsize_per_class\n",
    "          end_t += tsize_per_class\n",
    "    except Exception as e:\n",
    "      print('Unable to process data from', feather_file, ':', e)\n",
    "      raise\n",
    "    \n",
    "  return valid_dataset, valid_labels, train_dataset, train_labels\n",
    "\n",
    "\n",
    "train_size = 200000\n",
    "valid_size = 20000\n",
    "test_size = 12000\n",
    "\n",
    "valid_dataset, valid_labels, train_dataset, train_labels = merge_datasets(\n",
    "  train_datasets, train_size, valid_size)\n",
    "_, _, test_dataset, test_labels = merge_datasets(test_datasets, test_size, 1)\n",
    "\n",
    "print('Training:', train_dataset.shape, train_labels.shape)\n",
    "print('Validation:', valid_dataset.shape, valid_labels.shape)\n",
    "print('Testing:', test_dataset.shape, test_labels.shape)"
   ]
  },
  {
   "cell_type": "code",
   "execution_count": 27,
   "metadata": {},
   "outputs": [],
   "source": [
    "#shuffle 3 datasets\n",
    "\n",
    "def randomize(dataset, labels):\n",
    "  permutation = np.random.permutation(labels.shape[0])\n",
    "#permutation returns 0:20000 randomized indeces for shuffle\n",
    "  shuffled_dataset = dataset[permutation,:,:]\n",
    "  shuffled_labels = labels[permutation]\n",
    "  return shuffled_dataset, shuffled_labels\n",
    "\n",
    "train_dataset, train_labels = randomize(train_dataset, train_labels)\n",
    "test_dataset, test_labels = randomize(test_dataset, test_labels)\n",
    "valid_dataset, valid_labels = randomize(valid_dataset, valid_labels)"
   ]
  },
  {
   "cell_type": "code",
   "execution_count": 29,
   "metadata": {},
   "outputs": [
    {
     "name": "stdout",
     "output_type": "stream",
     "text": [
      "train_dataset.feather already existed\n",
      "valid_dataset.feather already existed\n",
      "train_labels.feather already existed\n",
      "valid_labels.feather already existed\n"
     ]
    }
   ],
   "source": [
    "#save them in feather format\n",
    "\n",
    "feather_folder = os.path.join(data_root, 'notMNIST')\n",
    "\n",
    "try:\n",
    "    if not os.path.exists(feather_folder):\n",
    "        os.makedirs(feather_folder)\n",
    "except OSError:\n",
    "    print('Error: Fail to create directory in', feather_folder)\n",
    "\n",
    "\n",
    "def save_feather3d(dataset, filename,image_size = 1, force = False):\n",
    "    dir = os.path.join(feather_folder, filename + '.feather')\n",
    "    if os.path.exists(dir) and not force:\n",
    "        print(filename + '.feather', \"already existed\")\n",
    "    else:\n",
    "        df = pd.DataFrame(dataset.reshape(-1, image_size))\n",
    "        feather.write_dataframe(df, dir)\n",
    "    \n",
    "save_feather3d(train_dataset, 'train_dataset', image_size)\n",
    "save_feather3d(test_dataset, 'test_dataset', image_size,True)\n",
    "save_feather3d(valid_dataset, 'valid_dataset', image_size)\n",
    "save_feather3d(train_labels, 'train_labels')\n",
    "save_feather3d(test_labels, 'test_labels',force = True)\n",
    "save_feather3d(valid_labels, 'valid_labels')"
   ]
  },
  {
   "cell_type": "code",
   "execution_count": 97,
   "metadata": {},
   "outputs": [],
   "source": [
    "\n",
    "tar = tarfile.open(feather_folder + '.tar.gz', 'w:gz')\n",
    "\n",
    "for name in os.listdir(feather_folder):\n",
    "    file = os.path.join(feather_folder, name)\n",
    "    tar.add(file)\n",
    "tar.close()\n",
    "#write the compressed file."
   ]
  },
  {
   "cell_type": "code",
   "execution_count": 86,
   "metadata": {},
   "outputs": [
    {
     "data": {
      "text/plain": [
       "'D:\\\\Programming\\\\Projects\\\\notMNIST\\\\test_set.feather'"
      ]
     },
     "execution_count": 86,
     "metadata": {},
     "output_type": "execute_result"
    }
   ],
   "source": [
    "feather.write_dataframe(df, 'test.feather')\n",
    "df_new = feather.read_dataframe('test.feather')\n",
    "os.path.join(data_root, 'notMNIST','test_set'+'.feather')"
   ]
  },
  {
   "cell_type": "code",
   "execution_count": null,
   "metadata": {},
   "outputs": [],
   "source": []
  }
 ],
 "metadata": {
  "kernelspec": {
   "display_name": "Python 3",
   "language": "python",
   "name": "python3"
  },
  "language_info": {
   "codemirror_mode": {
    "name": "ipython",
    "version": 3
   },
   "file_extension": ".py",
   "mimetype": "text/x-python",
   "name": "python",
   "nbconvert_exporter": "python",
   "pygments_lexer": "ipython3",
   "version": "3.7.1"
  }
 },
 "nbformat": 4,
 "nbformat_minor": 2
}
