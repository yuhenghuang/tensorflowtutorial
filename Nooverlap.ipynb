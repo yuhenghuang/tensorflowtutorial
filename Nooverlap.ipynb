{
 "cells": [
  {
   "cell_type": "code",
   "execution_count": 14,
   "metadata": {},
   "outputs": [],
   "source": [
    "from __future__ import print_function\n",
    "import imageio\n",
    "import matplotlib.pyplot as plt\n",
    "import numpy as np\n",
    "import pandas as pd\n",
    "import os\n",
    "import sys\n",
    "import tarfile\n",
    "from IPython.display import display, Image\n",
    "from sklearn.linear_model import LogisticRegression\n",
    "from six.moves.urllib.request import urlretrieve\n",
    "import feather\n",
    "import imagehash"
   ]
  },
  {
   "cell_type": "code",
   "execution_count": 3,
   "metadata": {},
   "outputs": [
    {
     "name": "stdout",
     "output_type": "stream",
     "text": [
      "Found and verified D:\\Programming\\Projects\\notMNIST_large.tar.gz\n",
      "Found and verified D:\\Programming\\Projects\\notMNIST_small.tar.gz\n"
     ]
    }
   ],
   "source": [
    "url = 'http://yaroslavvb.com/upload/notMNIST/'\n",
    "last_percent_reported = None\n",
    "data_root = 'D:\\\\Programming\\\\Projects'# Change me to store data elsewhere\n",
    "\n",
    "def download_progress_hook(count, blockSize, totalSize):\n",
    "  \"\"\"A hook to report the progress of a download. This is mostly intended for users with\n",
    "  slow internet connections. Reports every 5% change in download progress.\n",
    "  \"\"\"\n",
    "  global last_percent_reported\n",
    "  percent = int(count * blockSize * 100 / totalSize)\n",
    "\n",
    "  if last_percent_reported != percent:\n",
    "    if percent % 5 == 0:\n",
    "      sys.stdout.write(\"%s%%\" % percent)\n",
    "      sys.stdout.flush()\n",
    "    else:\n",
    "      sys.stdout.write(\".\")\n",
    "      sys.stdout.flush()\n",
    "      \n",
    "    last_percent_reported = percent\n",
    "        \n",
    "def maybe_download(filename, expected_bytes, force=False):\n",
    "  \"\"\"Download a file if not present, and make sure it's the right size.\"\"\"\n",
    "  dest_filename = os.path.join(data_root, filename)\n",
    "  if force or not os.path.exists(dest_filename):\n",
    "    print('Attempting to download:', filename) \n",
    "    filename, _ = urlretrieve(url + filename, dest_filename, reporthook = download_progress_hook)\n",
    "    print('\\nDownload Complete!')\n",
    "  statinfo = os.stat(dest_filename)\n",
    "  if statinfo.st_size == expected_bytes:\n",
    "    print('Found and verified', dest_filename)\n",
    "  else:\n",
    "    raise Exception(\n",
    "      'Failed to verify ' + dest_filename + '. Can you get to it with a browser?')\n",
    "  return dest_filename\n",
    "\n",
    "train_filename = maybe_download('notMNIST_large.tar.gz', 247336696)\n",
    "test_filename = maybe_download('notMNIST_small.tar.gz', 8458043)"
   ]
  },
  {
   "cell_type": "code",
   "execution_count": 12,
   "metadata": {},
   "outputs": [
    {
     "name": "stdout",
     "output_type": "stream",
     "text": [
      "D:\\Programming\\Projects\\notMNIST_large already present - Skipping extraction of D:\\Programming\\Projects\\notMNIST_large.tar.gz.\n",
      "['D:\\\\Programming\\\\Projects\\\\notMNIST_large\\\\A', 'D:\\\\Programming\\\\Projects\\\\notMNIST_large\\\\B', 'D:\\\\Programming\\\\Projects\\\\notMNIST_large\\\\C', 'D:\\\\Programming\\\\Projects\\\\notMNIST_large\\\\D', 'D:\\\\Programming\\\\Projects\\\\notMNIST_large\\\\E', 'D:\\\\Programming\\\\Projects\\\\notMNIST_large\\\\F', 'D:\\\\Programming\\\\Projects\\\\notMNIST_large\\\\G', 'D:\\\\Programming\\\\Projects\\\\notMNIST_large\\\\H', 'D:\\\\Programming\\\\Projects\\\\notMNIST_large\\\\I', 'D:\\\\Programming\\\\Projects\\\\notMNIST_large\\\\J']\n",
      "D:\\Programming\\Projects\\notMNIST_small already present - Skipping extraction of D:\\Programming\\Projects\\notMNIST_small.tar.gz.\n",
      "['D:\\\\Programming\\\\Projects\\\\notMNIST_small\\\\A', 'D:\\\\Programming\\\\Projects\\\\notMNIST_small\\\\B', 'D:\\\\Programming\\\\Projects\\\\notMNIST_small\\\\C', 'D:\\\\Programming\\\\Projects\\\\notMNIST_small\\\\D', 'D:\\\\Programming\\\\Projects\\\\notMNIST_small\\\\E', 'D:\\\\Programming\\\\Projects\\\\notMNIST_small\\\\F', 'D:\\\\Programming\\\\Projects\\\\notMNIST_small\\\\G', 'D:\\\\Programming\\\\Projects\\\\notMNIST_small\\\\H', 'D:\\\\Programming\\\\Projects\\\\notMNIST_small\\\\I', 'D:\\\\Programming\\\\Projects\\\\notMNIST_small\\\\J']\n"
     ]
    }
   ],
   "source": [
    "num_classes = 10\n",
    "np.random.seed(133)\n",
    "\n",
    "def maybe_extract(filename, force=False):\n",
    "  root = os.path.splitext(os.path.splitext(filename)[0])[0]  # remove .tar.gz\n",
    "  if os.path.isdir(root) and not force:\n",
    "    # You may override by setting force=True.\n",
    "    print('%s already present - Skipping extraction of %s.' % (root, filename))\n",
    "  else:\n",
    "    print('Extracting data for %s. This may take a while. Please wait.' % root)\n",
    "    tar = tarfile.open(filename)\n",
    "    sys.stdout.flush()\n",
    "    tar.extractall(data_root)\n",
    "    tar.close()\n",
    "  data_folders = [\n",
    "    os.path.join(root, d) for d in sorted(os.listdir(root))\n",
    "    if os.path.isdir(os.path.join(root, d))]\n",
    "  if len(data_folders) != num_classes:\n",
    "    raise Exception(\n",
    "      'Expected %d folders, one per class. Found %d instead.' % (\n",
    "        num_classes, len(data_folders)))\n",
    "  print(data_folders)\n",
    "  return data_folders\n",
    "  \n",
    "train_folders = maybe_extract(train_filename)\n",
    "test_folders = maybe_extract(test_filename)"
   ]
  },
  {
   "cell_type": "code",
   "execution_count": null,
   "metadata": {},
   "outputs": [],
   "source": []
  },
  {
   "cell_type": "code",
   "execution_count": 13,
   "metadata": {},
   "outputs": [
    {
     "data": {
      "text/plain": [
       "['D:\\\\Programming\\\\Projects\\\\notMNIST_small\\\\A',\n",
       " 'D:\\\\Programming\\\\Projects\\\\notMNIST_small\\\\B',\n",
       " 'D:\\\\Programming\\\\Projects\\\\notMNIST_small\\\\C',\n",
       " 'D:\\\\Programming\\\\Projects\\\\notMNIST_small\\\\D',\n",
       " 'D:\\\\Programming\\\\Projects\\\\notMNIST_small\\\\E',\n",
       " 'D:\\\\Programming\\\\Projects\\\\notMNIST_small\\\\F',\n",
       " 'D:\\\\Programming\\\\Projects\\\\notMNIST_small\\\\G',\n",
       " 'D:\\\\Programming\\\\Projects\\\\notMNIST_small\\\\H',\n",
       " 'D:\\\\Programming\\\\Projects\\\\notMNIST_small\\\\I',\n",
       " 'D:\\\\Programming\\\\Projects\\\\notMNIST_small\\\\J']"
      ]
     },
     "execution_count": 13,
     "metadata": {},
     "output_type": "execute_result"
    }
   ],
   "source": [
    "test_folders"
   ]
  },
  {
   "cell_type": "code",
   "execution_count": 16,
   "metadata": {},
   "outputs": [
    {
     "ename": "NameError",
     "evalue": "name 'dHash' is not defined",
     "output_type": "error",
     "traceback": [
      "\u001b[1;31m---------------------------------------------------------------------------\u001b[0m",
      "\u001b[1;31mNameError\u001b[0m                                 Traceback (most recent call last)",
      "\u001b[1;32m<ipython-input-16-7f03acc55a05>\u001b[0m in \u001b[0;36m<module>\u001b[1;34m()\u001b[0m\n\u001b[1;32m----> 1\u001b[1;33m \u001b[0mhelp\u001b[0m\u001b[1;33m(\u001b[0m\u001b[0mdHash\u001b[0m\u001b[1;33m)\u001b[0m\u001b[1;33m\u001b[0m\u001b[0m\n\u001b[0m",
      "\u001b[1;31mNameError\u001b[0m: name 'dHash' is not defined"
     ]
    }
   ],
   "source": []
  },
  {
   "cell_type": "code",
   "execution_count": 11,
   "metadata": {},
   "outputs": [
    {
     "data": {
      "text/plain": [
       "['D:\\\\Programming\\\\Projects\\\\notMNIST_small\\\\C',\n",
       " 'D:\\\\Programming\\\\Projects\\\\notMNIST_small\\\\H',\n",
       " 'D:\\\\Programming\\\\Projects\\\\notMNIST_small\\\\D',\n",
       " 'D:\\\\Programming\\\\Projects\\\\notMNIST_small\\\\G',\n",
       " 'D:\\\\Programming\\\\Projects\\\\notMNIST_small\\\\F',\n",
       " 'D:\\\\Programming\\\\Projects\\\\notMNIST_small\\\\E',\n",
       " 'D:\\\\Programming\\\\Projects\\\\notMNIST_small\\\\J',\n",
       " 'D:\\\\Programming\\\\Projects\\\\notMNIST_small\\\\A',\n",
       " 'D:\\\\Programming\\\\Projects\\\\notMNIST_small\\\\I',\n",
       " 'D:\\\\Programming\\\\Projects\\\\notMNIST_small\\\\B']"
      ]
     },
     "execution_count": 11,
     "metadata": {},
     "output_type": "execute_result"
    }
   ],
   "source": []
  },
  {
   "cell_type": "code",
   "execution_count": null,
   "metadata": {},
   "outputs": [],
   "source": []
  }
 ],
 "metadata": {
  "kernelspec": {
   "display_name": "Python 3",
   "language": "python",
   "name": "python3"
  },
  "language_info": {
   "codemirror_mode": {
    "name": "ipython",
    "version": 3
   },
   "file_extension": ".py",
   "mimetype": "text/x-python",
   "name": "python",
   "nbconvert_exporter": "python",
   "pygments_lexer": "ipython3",
   "version": "3.6.4"
  }
 },
 "nbformat": 4,
 "nbformat_minor": 2
}
