{
 "cells": [
  {
   "cell_type": "code",
   "execution_count": 1,
   "metadata": {},
   "outputs": [],
   "source": [
    "import numpy as np\n",
    "import pandas as pd\n",
    "import feather\n",
    "import torch\n",
    "import torchvision\n",
    "import datetime\n",
    "import os\n",
    "from six.moves import range"
   ]
  },
  {
   "cell_type": "code",
   "execution_count": 2,
   "metadata": {},
   "outputs": [
    {
     "name": "stdout",
     "output_type": "stream",
     "text": [
      "Training set (197309, 28, 28) (197309,)\n",
      "Validation set (17460, 28, 28) (17460,)\n",
      "Test set (10202, 28, 28) (10202,)\n"
     ]
    }
   ],
   "source": [
    "data_root ='D:\\\\Programming\\\\Projects\\\\notMNIST'\n",
    "image_size=28\n",
    "\n",
    "def feather_3d(file,image_size = 28):\n",
    "    temp = feather.read_dataframe(file)\n",
    "    width = np.shape(temp.values)[1]\n",
    "    if width == 1:\n",
    "        final = temp.values\n",
    "        final = final.reshape(-1)\n",
    "    else:\n",
    "        final = np.reshape(temp.values, (-1, image_size, image_size))\n",
    "    return final\n",
    "\n",
    "def read_data(dir, filename):\n",
    "    file = os.path.join(dir, filename + '.feather')\n",
    "    output = feather_3d(file)\n",
    "    return output\n",
    "\n",
    "test_dataset = read_data(data_root, 'test_dataset_final')\n",
    "test_labels = read_data(data_root, 'test_labels_final')\n",
    "train_dataset = read_data(data_root, 'train_dataset_final')\n",
    "train_labels = read_data(data_root, 'train_labels_final')\n",
    "valid_dataset = read_data(data_root, 'valid_dataset_final')\n",
    "valid_labels = read_data(data_root, 'valid_labels_final')\n",
    "\n",
    "print('Training set', train_dataset.shape, train_labels.shape)\n",
    "print('Validation set', valid_dataset.shape, valid_labels.shape)\n",
    "print('Test set', test_dataset.shape, test_labels.shape)"
   ]
  },
  {
   "cell_type": "code",
   "execution_count": 3,
   "metadata": {},
   "outputs": [
    {
     "name": "stdout",
     "output_type": "stream",
     "text": [
      "Training set (197309, 1, 28, 28) (197309, 1)\n",
      "Validation set (17460, 1, 28, 28) (17460, 1)\n",
      "Test set (10202, 1, 28, 28) (10202, 1)\n"
     ]
    }
   ],
   "source": [
    "image_size = 28\n",
    "num_labels = 10\n",
    "num_channels = 1 # grayscale\n",
    "\n",
    "def reformat(dataset, labels):\n",
    "  dataset = dataset.reshape(\n",
    "    (-1, num_channels, image_size, image_size)).astype(np.float32)\n",
    "  labels = labels.reshape(-1,1).astype(np.float32)\n",
    "  return dataset, labels\n",
    "\n",
    "train_dataset, train_labels = reformat(train_dataset, train_labels)\n",
    "valid_dataset, valid_labels = reformat(valid_dataset, valid_labels)\n",
    "test_dataset, test_labels = reformat(test_dataset, test_labels)\n",
    "print('Training set', train_dataset.shape, train_labels.shape)\n",
    "print('Validation set', valid_dataset.shape, valid_labels.shape)\n",
    "print('Test set', test_dataset.shape, test_labels.shape)"
   ]
  },
  {
   "cell_type": "code",
   "execution_count": 4,
   "metadata": {},
   "outputs": [],
   "source": [
    "batch_size = 32\n",
    "\n",
    "def numpy_to_torch(dataset, label, batch_size, shuffle=False, num_workers=2):\n",
    "    tensor_dataset = torch.stack([torch.tensor(i) for i in dataset])\n",
    "    tensor_label = torch.stack([torch.tensor(i) for i in label])\n",
    "    tensor_label = tensor_label.long()\n",
    "    my_dataset = torch.utils.data.TensorDataset(tensor_dataset,tensor_label)\n",
    "    return torch.utils.data.DataLoader(my_dataset, batch_size=batch_size, shuffle=shuffle, num_workers=num_workers)\n",
    "\n",
    "trainloader=numpy_to_torch(train_dataset, train_labels, batch_size,shuffle=True, num_workers=3)\n",
    "testloader=numpy_to_torch(test_dataset, test_labels, batch_size, num_workers=3)\n",
    "validloader=numpy_to_torch(valid_dataset, valid_labels, batch_size, num_workers=3)"
   ]
  },
  {
   "cell_type": "code",
   "execution_count": 5,
   "metadata": {},
   "outputs": [
    {
     "name": "stdout",
     "output_type": "stream",
     "text": [
      "cuda:0\n"
     ]
    },
    {
     "data": {
      "text/plain": [
       "Net(\n",
       "  (conv1): Conv2d(1, 6, kernel_size=(5, 5), stride=(1, 1))\n",
       "  (pool): MaxPool2d(kernel_size=2, stride=2, padding=0, dilation=1, ceil_mode=False)\n",
       "  (conv2): Conv2d(6, 16, kernel_size=(5, 5), stride=(1, 1))\n",
       "  (fc1): Linear(in_features=256, out_features=120, bias=True)\n",
       "  (fc2): Linear(in_features=120, out_features=84, bias=True)\n",
       "  (fc3): Linear(in_features=84, out_features=10, bias=True)\n",
       ")"
      ]
     },
     "execution_count": 5,
     "metadata": {},
     "output_type": "execute_result"
    }
   ],
   "source": [
    "import torch.nn as nn\n",
    "import torch.nn.functional as F\n",
    "\n",
    "\n",
    "class Net(nn.Module):\n",
    "    def __init__(self):\n",
    "        super(Net, self).__init__()\n",
    "        self.conv1 = nn.Conv2d(1, 6, 5)\n",
    "        self.pool = nn.MaxPool2d(2, 2)\n",
    "        self.conv2 = nn.Conv2d(6, 16, 5)\n",
    "        self.fc1 = nn.Linear(256, 120)\n",
    "        self.fc2 = nn.Linear(120, 84)\n",
    "        self.fc3 = nn.Linear(84, 10)\n",
    "\n",
    "    def forward(self, x):\n",
    "        x = self.pool(F.relu(self.conv1(x)))\n",
    "        x = self.pool(F.relu(self.conv2(x)))\n",
    "        x = x.view(-1, 256)\n",
    "        x = F.relu(self.fc1(x))\n",
    "        x = F.dropout(x, p=0.2)\n",
    "        x = F.relu(self.fc2(x))\n",
    "        x = self.fc3(x)\n",
    "        return x\n",
    "\n",
    "net = Net()\n",
    "\n",
    "device = torch.device(\"cuda:0\" if torch.cuda.is_available() else \"cpu\")\n",
    "# Assume that we are on a CUDA machine, then this should print a CUDA device:\n",
    "print(device)\n",
    "\n",
    "net.to(device)"
   ]
  },
  {
   "cell_type": "code",
   "execution_count": 6,
   "metadata": {},
   "outputs": [],
   "source": [
    "import torch.optim as optim\n",
    "\n",
    "criterion = nn.CrossEntropyLoss()\n",
    "optimizer = optim.SGD(net.parameters(), lr=0.05, momentum=0.9)\n",
    "scheduler = optim.lr_scheduler.MultiStepLR(optimizer, milestones=[2,3], gamma=0.1)"
   ]
  },
  {
   "cell_type": "code",
   "execution_count": 7,
   "metadata": {},
   "outputs": [
    {
     "name": "stdout",
     "output_type": "stream",
     "text": [
      "[1,  2000] loss: 0.643, and valid_acc is 84.4 %\n",
      "[1,  4000] loss: 0.489, and valid_acc is 84.3 %\n",
      "[1,  6000] loss: 0.507, and valid_acc is 79.7 %\n",
      "[2,  2000] loss: 0.532, and valid_acc is 83.1 %\n",
      "[2,  4000] loss: 0.521, and valid_acc is 83.9 %\n",
      "[2,  6000] loss: 0.514, and valid_acc is 82.8 %\n",
      "[3,  2000] loss: 0.404, and valid_acc is 86.8 %\n",
      "[3,  4000] loss: 0.371, and valid_acc is 87.2 %\n",
      "[3,  6000] loss: 0.360, and valid_acc is 87.5 %\n",
      "[4,  2000] loss: 0.343, and valid_acc is 87.7 %\n",
      "[4,  4000] loss: 0.338, and valid_acc is 87.7 %\n",
      "[4,  6000] loss: 0.333, and valid_acc is 87.8 %\n",
      "Finished Training\n",
      "0:02:53.504381\n"
     ]
    }
   ],
   "source": [
    "starttime = datetime.datetime.now()\n",
    "\n",
    "for epoch in range(4):  # loop over the dataset multiple times\n",
    "    scheduler.step()\n",
    "    running_loss = 0.0\n",
    "    for i, data in enumerate(trainloader, 0):\n",
    "        # get the inputs\n",
    "        inputs, labels = data\n",
    "        inputs, labels = inputs.to(device), labels.to(device)\n",
    "        # zero the parameter gradients\n",
    "        optimizer.zero_grad()\n",
    "        \n",
    "        \n",
    "        # forward + backward + optimize\n",
    "        outputs = net(inputs)\n",
    "        loss = criterion(outputs, labels.view(-1))\n",
    "        loss.backward()\n",
    "        optimizer.step()\n",
    "\n",
    "        # print statistics\n",
    "        running_loss += loss.item()\n",
    "        if i % 2000 == 1999:    # print every 2000 mini-batches\n",
    "            correct = 0\n",
    "            total = 0\n",
    "            with torch.no_grad():\n",
    "                for data in validloader:\n",
    "                    images, labels = data\n",
    "                    labels = labels.view(-1)\n",
    "                    outputs = net(images.to(device))\n",
    "                    _, predicted = torch.max(outputs.data, 1)\n",
    "                    total += labels.size(0)\n",
    "                    correct += (predicted == labels.to(device)).sum().item()\n",
    "            print('[%d, %5d] loss: %.3f, and valid_acc is %.1f %%' %\n",
    "                  (epoch + 1, i + 1, running_loss / 2000, 100 * correct / total))\n",
    "            running_loss = 0.0\n",
    "\n",
    "print('Finished Training')\n",
    "\n",
    "endtime = datetime.datetime.now()\n",
    "print(endtime-starttime)"
   ]
  },
  {
   "cell_type": "code",
   "execution_count": 8,
   "metadata": {},
   "outputs": [
    {
     "name": "stdout",
     "output_type": "stream",
     "text": [
      "Accuracy of the network on the test images: 93 %\n"
     ]
    }
   ],
   "source": [
    "correct = 0\n",
    "total = 0\n",
    "with torch.no_grad():\n",
    "    for data in testloader:\n",
    "        images, labels = data\n",
    "        labels = labels.view(-1)\n",
    "        outputs = net(images.to(device))\n",
    "        _, predicted = torch.max(outputs.data, 1)\n",
    "        total += labels.size(0)\n",
    "        correct += (predicted == labels.to(device)).sum().item()\n",
    "\n",
    "print('Accuracy of the network on the test images: %d %%' % (\n",
    "    100 * correct / total))"
   ]
  },
  {
   "cell_type": "code",
   "execution_count": 9,
   "metadata": {},
   "outputs": [
    {
     "name": "stdout",
     "output_type": "stream",
     "text": [
      "Accuracy of     A : 93 %\n",
      "Accuracy of     B : 94 %\n",
      "Accuracy of     C : 95 %\n",
      "Accuracy of     D : 94 %\n",
      "Accuracy of     E : 93 %\n",
      "Accuracy of     F : 94 %\n",
      "Accuracy of     G : 94 %\n",
      "Accuracy of     H : 93 %\n",
      "Accuracy of     I : 88 %\n",
      "Accuracy of     J : 93 %\n"
     ]
    }
   ],
   "source": [
    "classes = ('A', 'B', 'C', 'D', 'E', 'F', 'G', 'H', 'I', 'J')\n",
    "\n",
    "class_correct = list(0. for i in range(10))\n",
    "class_total = list(0. for i in range(10))\n",
    "with torch.no_grad():\n",
    "    for data in testloader:\n",
    "        images, labels = data\n",
    "        labels = labels.view(-1)\n",
    "        outputs = net(images.to(device))\n",
    "        _, predicted = torch.max(outputs, 1)\n",
    "        c = (predicted == labels.squeeze().to(device))\n",
    "        for i in range(labels.shape[0]):\n",
    "            label = labels[i]\n",
    "            class_correct[label] += c[i].item()\n",
    "            class_total[label] += 1\n",
    "\n",
    "\n",
    "for i in range(10):\n",
    "    print('Accuracy of %5s : %2d %%' % (\n",
    "        classes[i], 100 * class_correct[i] / class_total[i]))"
   ]
  },
  {
   "cell_type": "code",
   "execution_count": null,
   "metadata": {},
   "outputs": [],
   "source": []
  }
 ],
 "metadata": {
  "kernelspec": {
   "display_name": "Python 3",
   "language": "python",
   "name": "python3"
  },
  "language_info": {
   "codemirror_mode": {
    "name": "ipython",
    "version": 3
   },
   "file_extension": ".py",
   "mimetype": "text/x-python",
   "name": "python",
   "nbconvert_exporter": "python",
   "pygments_lexer": "ipython3",
   "version": "3.7.1"
  }
 },
 "nbformat": 4,
 "nbformat_minor": 2
}
